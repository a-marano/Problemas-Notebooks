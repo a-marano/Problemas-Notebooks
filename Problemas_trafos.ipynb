{
 "cells": [
  {
   "cell_type": "markdown",
   "metadata": {},
   "source": [
    "# Problema 1\n",
    "\n",
    "<div>\n",
    "Fuente: S.J. Chapman, \"Máquinas eléctricas\", 5ºEd. McGrawHill. </div>\n",
    "\n",
    "Un sistema de potencia monofásico consta de un generador de 480 V y 60 Hz que suministra potencia a una carga Zcarga = 4 + j3 $\\Omega$ a través de una línea de transmisión de impedancia Zlínea = 0.18 + j0.24 $\\Omega$. Conteste las siguientes preguntas sobre el sistema.\n",
    "\n",
    "a) Si el sistema de potencia es exactamente como se describe en la figura 1, ¿cuál será el voltaje en la carga? ¿Cuáles serán las pérdidas en la línea de transmisión?\n",
    "\n",
    "![P1F1](./img/p1f1.png)\n"
   ]
  },
  {
   "cell_type": "markdown",
   "metadata": {},
   "source": [
    "b) Suponga que un transformador elevador 1:10 se coloca en el extremo del generador de la línea de transmisión y que un transformador reductor 10:1 se coloca en el extremo de carga de la línea de transmisión. ¿Cuál será ahora el voltaje de la carga? ¿Cuáles serán las pérdidas en la línea de transmisión?\n",
    "\n",
    "![P1F2](./img/p1f2.png)\n",
    "\n",
    "---"
   ]
  },
  {
   "cell_type": "markdown",
   "metadata": {
    "solution2": "hidden",
    "solution2_first": true
   },
   "source": [
    "\n",
    "# Problema 2\n",
    "\n",
    "<div>\n",
    "Fuente: S.J. Chapman, \"Máquinas eléctricas\", 5ºEd. McGrawHill. </div>\n",
    "\n",
    "Se requiere determinar las impedancias del circuito equivalente de un transformador de 20 kVA, 8000/240\n",
    "V, 60 Hz. El ensayo de circuito abierto se realizó en el circuito secundario del transformador\n",
    "(para reducir el voltaje máximo que se tenía que medir), y el ensayo de cortocircuito se realizó en el lado\n",
    "primario del transformador (para reducir la máxima corriente que se tenía que medir). Se tomaron los\n",
    "siguientes datos:\n",
    "\n",
    "\n",
    "\n",
    " <table border=\"1\" style=\"width:70%\">\n",
    "  <tr>\n",
    "    <td>Ensayo circuito abierto</td>\n",
    "    <td>Ensayo cortocircuito</td>\n",
    "  </tr>\n",
    "  <tr>\n",
    "    <td>$V_{ca}=240$ V</td>\n",
    "    <td>$V_{cc}=489$ V</td>\n",
    "  </tr>\n",
    "  <tr>\n",
    "    <td>$I_{ca}=7.133$ A</td>\n",
    "    <td>$I_{cc}=2.5$ A</td>\n",
    "  </tr>\n",
    "  <tr>\n",
    "    <td>$P_{ca}=400$ W</td>\n",
    "    <td>$P_{cc}=240$ W</td>\n",
    "  </tr>\n",
    "</table> "
   ]
  },
  {
   "cell_type": "code",
   "execution_count": 3,
   "metadata": {
    "solution2": "hidden"
   },
   "outputs": [
    {
     "name": "stdout",
     "output_type": "stream",
     "text": [
      "R_fe (BT) = 144.00 Ω --> R_fe (AT) = 160000.00 Ω\n",
      "X_m (BT) = 34.60 Ω --> X_m (AT) = 38449.22 Ω\n",
      "R_cc (AT) = 38.40 Ω\n",
      "X_cc (AT) = 191.79 Ω\n"
     ]
    }
   ],
   "source": [
    "# SOLUCIÓN\n",
    "\n",
    "import numpy as np\n",
    "\n",
    "rt = 8000./240.\n",
    "\n",
    "# Rama de vacío. Medidas en el secundario (BT):\n",
    "Vca = 240.0 # V\n",
    "Ica = 7.133 # A\n",
    "Pca = 400.0 # W\n",
    "\n",
    "# Rama de cortocircuito. Medidas en el primario (AT):\n",
    "Vcc = 489.0 # V\n",
    "Icc = 2.5 # A \n",
    "Pcc = 240.0 # W\n",
    "\n",
    "# Parámetros de la rama de vacío:\n",
    "Y_0 = Ica/Vca\n",
    "phi_0 = np.arccos(Pca/(Vca*Ica))\n",
    "# R_fe, X_m\n",
    "R_fe = 1./(Y_0*np.cos(phi_0))\n",
    "X_m = 1./(Y_0*np.sin(phi_0))\n",
    "\n",
    "# Parámetros de la rama de cortocircuito:\n",
    "Z_cc = Vcc/Icc\n",
    "phi_cc = np.arccos(Pcc/(Vcc*Icc))\n",
    "# R_cc, X_cc\n",
    "R_cc = Z_cc*np.cos(phi_cc)\n",
    "X_cc = Z_cc*np.sin(phi_cc)\n",
    "\n",
    "print (\"R_fe (BT) = {:.2f} Ω --> R_fe (AT) = {:.2f} Ω\".format(R_fe, R_fe*rt**2))\n",
    "print (\"X_m (BT) = {:.2f} Ω --> X_m (AT) = {:.2f} Ω\".format(X_m, X_m*rt**2))\n",
    "print (\"R_cc (AT) = {:.2f} Ω\".format(R_cc))\n",
    "print (\"X_cc (AT) = {:.2f} Ω\".format(X_cc))"
   ]
  },
  {
   "cell_type": "markdown",
   "metadata": {
    "solution2": "hidden",
    "solution2_first": true
   },
   "source": [
    "---\n",
    "# Problema 3\n",
    "\n",
    "Para una aplicación se necesita emplear un transformador de media a baja tensión de 630 kVA. Se dispone de los datos del fabricante (tabla). Responder, usando los datos de la tabla, las siguientes cuestiones:\n",
    "\n",
    "a) ¿Cuánto vale la impedancia de cortocircuito del transformador?\n",
    "\n",
    "b) Si el transformador trabaja a media carga alimentando una impedancia de factor de potencia 0.8 inductivo, ¿qué valor tiene la regulación? ¿y si trabja a plena carga con factor de potencia 0.6 capacitivo?\n",
    "\n",
    "c) ¿cuánto vale el rendimiento del transformador en las dos situaciones anteriores?\n",
    "\n",
    "![](./img/datos_trafo.png)"
   ]
  },
  {
   "cell_type": "code",
   "execution_count": 4,
   "metadata": {
    "solution2": "hidden"
   },
   "outputs": [
    {
     "name": "stdout",
     "output_type": "stream",
     "text": [
      "I1n = 15.88 A / I2n = 826.66\n",
      "Rcc = 8.98\n",
      "Xcc = 49.1\n",
      "Zcc = 49.944 ángulo = 1.390 rad\n",
      "\n",
      "\n",
      "Funcionamiento a media carga (c=0.5) alimentando una impedancia de factor de potencia 0.8 inductivo:\n",
      "Regulación = 0.022\n",
      "Tensión en la carga: U2 = 430.3 V\n",
      "Rendimiento = 0.987\n",
      "\n",
      "\n",
      "Funcionamento a plena carga (c=1.0) alimentando una impedancia de factor de potencia 0.6 capacitivo:\n",
      "Regulación = -0.054\n",
      "Tensión en la carga: U2 = 463.6 V\n",
      "Rendimiento = 0.983\n"
     ]
    }
   ],
   "source": [
    "# SOLUCIÓN\n",
    "import numpy as np\n",
    "# Datos\n",
    "Sn = 630.0e3 #VA\n",
    "U1n = 22.9e3 #V\n",
    "U2n = 440.0 #V\n",
    "Ucc = 0.06\n",
    "\n",
    "# corriente nominal primario y secundario\n",
    "I1n = Sn/np.sqrt(3)/U1n\n",
    "I2n = Sn/np.sqrt(3)/U2n\n",
    "# Impedancia de cc (referida al primario)\n",
    "Zcc = Ucc*(U1n/np.sqrt(3))/I1n\n",
    "# Resistencia de cc (referida al primario) => Pj(plena carga:tabla) = 6800 W\n",
    "Pj = 6800.\n",
    "Rcc = (Pj/3)/I1n**2\n",
    "# Xcc\n",
    "Xcc = np.sqrt(Zcc**2 - Rcc**2)\n",
    "phi_cc = np.arccos(Rcc/Zcc)\n",
    "\n",
    "print (\"I1n = {:.2f} A / I2n = {:.2f}\".format(I1n,I2n))\n",
    "print (\"Rcc = {:.2f}\".format(Rcc))\n",
    "print (\"Xcc = {:.1f}\".format(Xcc))\n",
    "print (\"Zcc = {:.3f} ángulo = {:.3f} rad\".format(Zcc,phi_cc))\n",
    "\n",
    "# Pérdidas en vacío (tabla): 1650 W\n",
    "P_fe = 1650.0 #W\n",
    "\n",
    "# función para calcular la regulación, la tensión en la carga y el rendimiento\n",
    "def reg_rto(c,fp,Ucc=Ucc,phi_cc=phi_cc,I2n=I2n,P_fe=P_fe,Pj=Pj):\n",
    "    if fp >= 0:\n",
    "        regul = c*Ucc*np.cos(phi_cc-np.arccos(fp))\n",
    "    else:\n",
    "        regul = c*Ucc*np.cos(phi_cc+np.arccos(fp))\n",
    "    U2 = U2n - regul*U2n\n",
    "    rto = (np.sqrt(3)*c*U2*I2n*np.abs(fp))/(np.sqrt(3)*c*U2*I2n*np.abs(fp) + P_fe + c**2*Pj)\n",
    "    return regul, U2, rto\n",
    "\n",
    "print (\"\\n\")\n",
    "print (\"Funcionamiento a media carga (c=0.5) alimentando una impedancia de factor de potencia 0.8 inductivo:\")\n",
    "print (\"Regulación = {:.3f}\".format(reg_rto(0.5,0.8)[0]))\n",
    "print (\"Tensión en la carga: U2 = {:.1f} V\".format(reg_rto(0.5,0.8)[1]))\n",
    "print (\"Rendimiento = {:.3f}\".format(reg_rto(0.5,0.8)[2]))\n",
    "print (\"\\n\")\n",
    "print (\"Funcionamento a plena carga (c=1.0) alimentando una impedancia de factor de potencia 0.6 capacitivo:\")\n",
    "print (\"Regulación = {:.3f}\".format(reg_rto(1.0,-0.6)[0]))\n",
    "print (\"Tensión en la carga: U2 = {:.1f} V\".format(reg_rto(1.0,-0.6)[1]))\n",
    "print (\"Rendimiento = {:.3f}\".format(reg_rto(0.5,-0.6)[2]))\n"
   ]
  },
  {
   "cell_type": "code",
   "execution_count": null,
   "metadata": {
    "collapsed": true
   },
   "outputs": [],
   "source": []
  }
 ],
 "metadata": {
  "kernel_info": {
   "name": "python2"
  },
  "kernelspec": {
   "display_name": "Python 3",
   "language": "python",
   "name": "python3"
  },
  "language_info": {
   "codemirror_mode": {
    "name": "ipython",
    "version": 3
   },
   "file_extension": ".py",
   "mimetype": "text/x-python",
   "name": "python",
   "nbconvert_exporter": "python",
   "pygments_lexer": "ipython3",
   "version": "3.6.3"
  },
  "latex_envs": {
   "LaTeX_envs_menu_present": true,
   "autoclose": false,
   "autocomplete": true,
   "bibliofile": "biblio.bib",
   "cite_by": "apalike",
   "current_citInitial": 1,
   "eqLabelWithNumbers": true,
   "eqNumInitial": 1,
   "hotkeys": {
    "equation": "Ctrl-E",
    "itemize": "Ctrl-I"
   },
   "labels_anchors": false,
   "latex_user_defs": false,
   "report_style_numbering": false,
   "user_envs_cfg": false
  },
  "nteract": {
   "version": "0.3.2"
  },
  "toc": {
   "nav_menu": {},
   "number_sections": true,
   "sideBar": true,
   "skip_h1_title": false,
   "title_cell": "Table of Contents",
   "title_sidebar": "Contents",
   "toc_cell": false,
   "toc_position": {},
   "toc_section_display": true,
   "toc_window_display": false
  },
  "varInspector": {
   "cols": {
    "lenName": 16,
    "lenType": 16,
    "lenVar": 40
   },
   "kernels_config": {
    "python": {
     "delete_cmd_postfix": "",
     "delete_cmd_prefix": "del ",
     "library": "var_list.py",
     "varRefreshCmd": "print(var_dic_list())"
    },
    "r": {
     "delete_cmd_postfix": ") ",
     "delete_cmd_prefix": "rm(",
     "library": "var_list.r",
     "varRefreshCmd": "cat(var_dic_list()) "
    }
   },
   "types_to_exclude": [
    "module",
    "function",
    "builtin_function_or_method",
    "instance",
    "_Feature"
   ],
   "window_display": true
  }
 },
 "nbformat": 4,
 "nbformat_minor": 1
}
