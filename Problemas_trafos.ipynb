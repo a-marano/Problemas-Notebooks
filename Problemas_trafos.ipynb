{
 "cells": [
  {
   "cell_type": "markdown",
   "metadata": {},
   "source": [
    "<style>\n",
    "    .warning { color: red; }\n",
    "</style>"
   ]
  },
  {
   "cell_type": "markdown",
   "metadata": {},
   "source": [
    "# Problema 1\n",
    "\n",
    "Un sistema de potencia monofásico consta de un generador de 480 V y 60 Hz que suministra potencia a una carga Zcarga = 4 + j3 $\\Omega$ a través de una línea de transmisión de impedancia Zlínea = 0.18 + j0.24 $\\Omega$. Conteste las siguientes preguntas sobre el sistema.\n",
    "\n",
    "a) Si el sistema de potencia es exactamente como se describe en la figura 1, ¿cuál será el voltaje en la carga? ¿Cuáles serán las pérdidas en la línea de transmisión?\n",
    "\n",
    "<img src='./img/p1f1.png'>\n",
    "\n",
    "b) Suponga que un transformador elevador 1:10 se coloca en el extremo del generador de la línea de transmisión y que un transformador reductor 10:1 se coloca en el extremo de carga de la línea de transmisión. ¿Cuál será ahora el voltaje de la carga? ¿Cuáles serán las pérdidas en la línea de transmisión?\n",
    "\n",
    "<img src='./img/p1f2.png'>"
   ]
  },
  {
   "cell_type": "markdown",
   "metadata": {},
   "source": [
    "---\n",
    "# Problema 2\n",
    "\n",
    "Se requiere determinar las impedancias del circuito equivalente de un transformador de 20 kVA, 8000/240\n",
    "V, 60 Hz. El ensayo de circuito abierto se realizó en el circuito secundario del transformador\n",
    "(para reducir el voltaje máximo que se tenía que medir), y el ensayo de cortocircuito se realizó en el lado\n",
    "primario del transformador (para reducir la máxima corriente que se tenía que medir). Se tomaron los\n",
    "siguientes datos:\n",
    "\n",
    "\n",
    "\n",
    " <table border=\"1\" style=\"width:70%\">\n",
    "  <tr>\n",
    "    <td>Ensayo circuito abierto</td>\n",
    "    <td>Ensayo cortocircuito</td>\n",
    "  </tr>\n",
    "  <tr>\n",
    "    <td>$V_{ca}=8000$ V</td>\n",
    "    <td>$V_{cc}=489$ V</td>\n",
    "  </tr>\n",
    "  <tr>\n",
    "    <td>$I_{ca}=0.214$ A</td>\n",
    "    <td>$I_{cc}=2.5$ A</td>\n",
    "  </tr>\n",
    "  <tr>\n",
    "    <td>$P_{ca}=400$ W</td>\n",
    "    <td>$P_{cc}=240$ W</td>\n",
    "  </tr>\n",
    "</table> "
   ]
  },
  {
   "cell_type": "markdown",
   "metadata": {},
   "source": [
    "---\n",
    "# Problema 3\n",
    "\n",
    "Para una aplicación se necesita emplear un transformador de media a baja tensión de 630 kVA. Se dispone de los datos del fabricante (tabla). Responder, usando los datos de la tabla, las siguientes cuestiones:\n",
    "\n",
    "a) ¿Cuánto vale la impedancia de cortocircuito del transformador?\n",
    "\n",
    "b) Si el transformador trabaja a media carga alimentando una impedancia de factor de potencia 0.8 inductivo, ¿qué valor tiene la regulación? ¿y si trabja a plena carga con factor de potencia 0.6 capacitivo?\n",
    "\n",
    "c) ¿cuánto vale el rendimiento del transformador en las dos situaciones anteriores?\n",
    "\n",
    "<img src='./Datos_trihal.png'>"
   ]
  },
  {
   "cell_type": "code",
   "execution_count": null,
   "metadata": {
    "collapsed": true
   },
   "outputs": [],
   "source": []
  }
 ],
 "metadata": {
  "kernelspec": {
   "display_name": "Python 2",
   "language": "python",
   "name": "python2"
  },
  "language_info": {
   "codemirror_mode": {
    "name": "ipython",
    "version": 2
   },
   "file_extension": ".py",
   "mimetype": "text/x-python",
   "name": "python",
   "nbconvert_exporter": "python",
   "pygments_lexer": "ipython2",
   "version": "2.7.10"
  }
 },
 "nbformat": 4,
 "nbformat_minor": 0
}
