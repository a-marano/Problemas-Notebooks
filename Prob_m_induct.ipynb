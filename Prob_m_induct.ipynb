{
 "cells": [
  {
   "cell_type": "code",
   "execution_count": 18,
   "metadata": {},
   "outputs": [
    {
     "name": "stdout",
     "output_type": "stream",
     "text": [
      "Populating the interactive namespace from numpy and matplotlib\n"
     ]
    }
   ],
   "source": [
    "%pylab inline"
   ]
  },
  {
   "cell_type": "markdown",
   "metadata": {
    "solution2": "hidden",
    "solution2_first": true
   },
   "source": [
    "# Problemas máquina inducción\n",
    "\n",
    "## Problema 1\n",
    "\n",
    "Un motor de inducción trifásico de gran potencia está alimentado desde una red de media tensión (MT) a través de un transformador. Las características nominales del motor (datos de la placa de características) son:\n",
    "\n",
    "- Velocidad nominal: $n_M = 2930$ rpm\n",
    "- Potencia nominal: $ P_u = 75$ kW\n",
    "- Rendimiento: $\\eta = 86.27\\%$\n",
    "- Tensión nominal: $U_n=400$ V\n",
    "- Factor de potencia nominal: fp = 0.92\n",
    "\n",
    "Por su parte, los datos del transformador son:\n",
    "\n",
    "- Potencia nominal: $S_n=125$ kVA\n",
    "- 20/0.4 kV Yy0\n",
    "- Datos de cc: $\\epsilon_{cc}=5\\%$, $\\cos\\varphi_{cc}=0.2$\n",
    "- Datos de vacío: $P_0=5$ kW, $\\cos\\varphi_0=0.1$\n",
    "\n",
    "Determinar, para el punto de funcionamiento nominal del motor:\n",
    "\n",
    "<ol type=\"a\">\n",
    "    <li>Potencias activa y reactiva absorbidas por el motor</li>\n",
    "    <li>Par mecánico útil del motor</li>\n",
    "    <li>Índice de carga del transformador</li>\n",
    "    <li>Regulacion del transformador</li>\n",
    "    <li>Rendimiento del transformador</li>\n",
    "</ol>"
   ]
  },
  {
   "cell_type": "code",
   "execution_count": 2,
   "metadata": {
    "solution2": "hidden"
   },
   "outputs": [
    {
     "name": "stdout",
     "output_type": "stream",
     "text": [
      "SOLUCIÓN 1\n",
      "Pe = 86.936 kW\n",
      "Qe = 37.035 kvar\n",
      "Mu = 283.338 kvar\n",
      "índice de carga (c) = 0.756\n",
      "Regulación del trafo (reg) = 2.147 %\n",
      "Rendimiento del trafo = 0.938\n"
     ]
    }
   ],
   "source": [
    "# Solución problema 1\n",
    "\n",
    "n_m = 2930 # rpm\n",
    "Pu = 75.0e3 # W\n",
    "rto_m = 0.8627\n",
    "Un = 400 # V\n",
    "fp_m = 0.92\n",
    "\n",
    "S_t = 125.0e3 #kVA\n",
    "U1n, U2n = 20.0e3, 400.0\n",
    "e_cc, fp_cc = 0.05, 0.2\n",
    "P0, fp_0 = 5.0e3, 0.1\n",
    "\n",
    "import numpy as np\n",
    "\n",
    "Pe = Pu/rto_m\n",
    "Qe = Pe/fp_m*np.sin(np.arccos(fp_m))\n",
    "\n",
    "Mu = Pe/(n_m*2*np.pi/60)\n",
    "\n",
    "# el índice de carga expresado como la relación entre la S2 y la S nominal del trafo\n",
    "c = np.sqrt(Pe**2 + Qe**2)/S_t\n",
    "\n",
    "reg = c*e_cc*np.cos(np.arccos(fp_cc)-np.arccos(fp_m))\n",
    "\n",
    "# para el rendimiento es necesario conocer la potencia del ensayo de cc (Pcc):\n",
    "# rto = P2 / (P2+P0+c**2*Pcc)\n",
    "# Pcc se puede obtener a partir de los datos de cc del enunciado:\n",
    "# --> condiciones ensayo cc: alimentación a Ucc con corriente I2n: \n",
    "# --> |Zcc| = |Ucc_fase|/|I2n|\n",
    "I2n = S_t/U2n/np.sqrt(3)\n",
    "Zcc = (e_cc*U2n/np.sqrt(3))/I2n\n",
    "Rcc = Zcc*fp_cc\n",
    "Pcc = 3*Rcc*I2n**2\n",
    "rto = Pe/(Pe + P0 + c**2*Pcc)\n",
    "\n",
    "print (\"SOLUCIÓN 1\")\n",
    "print (\"Pe = {:.3f} kW\".format(Pe/1000))\n",
    "print (\"Qe = {:.3f} kvar\".format(Qe/1000))\n",
    "print (\"Mu = {:.3f} kvar\".format(Mu))\n",
    "print (\"índice de carga (c) = {:.3f}\".format(c))\n",
    "print (\"Regulación del trafo (reg) = {:.3f} %\".format(reg*100))\n",
    "print (\"Rendimiento del trafo = {:.3f}\".format(rto))\n",
    "\n"
   ]
  },
  {
   "cell_type": "markdown",
   "metadata": {
    "collapsed": true,
    "solution2": "hidden",
    "solution2_first": true
   },
   "source": [
    "---\n",
    "## Problema 2\n",
    "\n",
    "Un motor de inducción trifásico conectado en estrella a una red de 380 V y 50 Hz tiene unas pérdidas en el hierro de 280 W. A plena carga desarrolla un par útil de 44 Nm girando a 710 rpm. En este régimen de carga la potencia en el entrehierro es de 3500 W.\n",
    "\n",
    "En esas condiciones, determinar:\n",
    "\n",
    "1. Potencia en el eje del motor\n",
    "2. Deslizamiento con el que trabaja el motor\n",
    "3. Resistencia estatórica sabiendo que la potencia absorbida de la red es de 3870 W con un factor de potencia de 0.82\n",
    "4. Pérdidas mecánicas y pérdidas Joule en el rotor\n",
    "5. Rendimiento del motor"
   ]
  },
  {
   "cell_type": "code",
   "execution_count": 3,
   "metadata": {
    "solution2": "hidden"
   },
   "outputs": [
    {
     "name": "stdout",
     "output_type": "stream",
     "text": [
      "SOLUCIÓN 2\n",
      "Pu = 3.271 kW\n",
      "s = 5.333 %\n",
      "Re = 0.58 Ω\n",
      "Pjr = 186.7 W\n",
      "Pm = 41.9 W\n",
      "Pjr = 186.7 W\n",
      "rto = 0.845 W\n"
     ]
    }
   ],
   "source": [
    "# Solución 2\n",
    "#---\n",
    "import numpy as np\n",
    "\n",
    "U = 380.0 # V\n",
    "Tu = 44.0 # Nm\n",
    "n = 710.0 # rpm\n",
    "Pe, cos_phi = 3870.0, 0.82\n",
    "Pa = 3500.0 # W\n",
    "Pfe = 280.0 # W\n",
    "\n",
    "Pu = Tu*(n*2*np.pi/60)\n",
    "# la velocidad de sincronismo tiene que ser de 750 rpm (p=4)\n",
    "n_s = 750\n",
    "s = (n_s-n)/n_s\n",
    "# Las pérdidas Joule se pueden calcular de un balance de potencias:\n",
    "# Pe = Pje + Pfe + Pa.\n",
    "# Pje = 3*Re*Ie**2\n",
    "# Ie puede obtenerse de la potencia eléctrica absorbida por el motor:\n",
    "# Pe = sqrt(3)*U*Ie*cos(phi)\n",
    "Pje = Pe - Pfe - Pa\n",
    "Ie = Pe/(np.sqrt(3)*U*cos_phi)\n",
    "Re = Pje/3/Ie**2\n",
    "\n",
    "# pérdidas Joule en el rotor: Pjr = s*Pa\n",
    "Pjr = s*Pa\n",
    "# pérdidas mecánicas:\n",
    "Pm = Pa-Pu-Pjr\n",
    "# rendimiento\n",
    "rto = Pu/Pe\n",
    "\n",
    "print (\"SOLUCIÓN 2\")\n",
    "print (\"Pu = {:.3f} kW\".format(Pu/1000))\n",
    "print (\"s = {:.3f} %\".format(s*100))\n",
    "print (\"Re = {:.2f} Ω\".format(Re))\n",
    "print (\"Pjr = {:.1f} W\".format(Pjr))\n",
    "print (\"Pm = {:.1f} W\".format(Pm))\n",
    "print (\"Pjr = {:.1f} W\".format(Pjr))\n",
    "print (\"rto = {:.3f} W\".format(rto))\n"
   ]
  },
  {
   "cell_type": "code",
   "execution_count": 13,
   "metadata": {},
   "outputs": [
    {
     "data": {
      "image/png": "[encoded data removed]",
      "text/plain": [
       "<Figure size 540x432 with 1 Axes>"
      ]
     },
     "metadata": {},
     "output_type": "display_data"
    }
   ],
   "source": [
    "# Para generar el diagrama de potencias de la máquina (diagrama de Sankey)\n",
    "import numpy as np\n",
    "import matplotlib.pyplot as plt\n",
    "from matplotlib.sankey import Sankey\n",
    "\n",
    "fig = plt.figure(figsize=(7.5,6))\n",
    "ax = fig.add_subplot(1, 1, 1, xticks=[], yticks=[],\n",
    "                     title=\"Diagrama de perdidas del motor de induccion.\")\n",
    "sankey = Sankey(ax=ax,scale=0.0001,offset=0.2, format='%.0f', flows=[Pe, -Pje, -Pfe, -Pjr, -Pm, -Pu],\n",
    "       labels=['Pe', 'Pje', 'Pfe', 'Pjr', 'Pm', 'Pu'],\n",
    "       orientations=[0, -1, 1, -1, -1, 0], \n",
    "      pathlengths=[0.5,0.1,0.025,0.25,0.25,0.5])\n",
    "diagrama = sankey.finish()"
   ]
  },
  {
   "cell_type": "markdown",
   "metadata": {
    "solution2": "hidden",
    "solution2_first": true
   },
   "source": [
    "---\n",
    "## Problema 3\n",
    "\n",
    "En un equipo motobomba (grupo hidráulico) el motor es asíncronotrifásico con estátor hexapolar y conexión en estrella. Su tensión nominal es de 400 V y se sabe que tiene una resistencia estatórica de 1.2 Ω y unas pérdidas en el hierro de 187 W. Girando a 965 rpm el motor absorbe una potencia de 5.25 kW estando alimentado a su tensión nominal y acciona una bomba que posee un par resistente cuadrático ($M_R$) que responde a la ecuación indicada a continuación:\n",
    "\n",
    "$$M_R = 0.0018 \\Omega^2 +0.19 \\Omega +8$$\n",
    "\n",
    "determinada usando unidades del sistema internacional.\n",
    "\n",
    "Para esas condiciones de funcionamiento, se pide:\n",
    "\n",
    "1. Par resistente\n",
    "2. Deslizamiento del motor\n",
    "3. Potencia mecánica interna suponiendo unas pérdidas mecánicas de 50 W\n",
    "4. Pérdidas joule en el rotor.\n",
    "5. Intensidad absorbida por el motor\n",
    "6. Rendimiento del motor\n"
   ]
  },
  {
   "cell_type": "code",
   "execution_count": 14,
   "metadata": {
    "solution2": "hidden"
   },
   "outputs": [
    {
     "name": "stdout",
     "output_type": "stream",
     "text": [
      "Solución 3\n",
      "Mr = 45.58 Nm\n",
      "s = 0.035\n",
      "Pmi = 4656.3 W\n",
      "Pjr = 168.9 W\n",
      "Ie = 8.13 A\n",
      "rto = 0.877\n"
     ]
    }
   ],
   "source": [
    "# Solución 3\n",
    "\n",
    "import numpy as np\n",
    "\n",
    "U = 400.0 # V\n",
    "Re = 1.2 # Ω\n",
    "Pfe = 187.0 # W\n",
    "w = 965.0 # rpm\n",
    "Pe = 5.25e3 # W\n",
    "ns = 1000.0 # rpm (p=3)\n",
    "Pm = 50.0 # W\n",
    "\n",
    "def mr_bomba(omega=w,a=0.0018, b=0.19, c=8):\n",
    "    omega = omega*2*np.pi/60\n",
    "    return a*omega**2 + b*omega + c\n",
    "\n",
    "# el par resistente es:\n",
    "Mr = mr_bomba(w)\n",
    "\n",
    "# deslizamiento:\n",
    "s = (ns-w)/ns\n",
    "\n",
    "# potencia mecánica interna Pmi = Pu + Pm\n",
    "Pu = Mr*(w*2*np.pi/60)\n",
    "Pmi = Pu + Pm\n",
    "\n",
    "# pérdidas joule rotor: Pjr = s*Pa = s*(Pmi+Pjr)\n",
    "Pjr = s/(1-s)*Pmi\n",
    "\n",
    "# Pe = Pa + Pje + Pfe --> Pje\n",
    "# Pje = 3*Re*Ie**2 --> Ie\n",
    "\n",
    "Pje = Pe - Pjr/s - Pfe\n",
    "Ie = np.sqrt(Pje/3/Re)\n",
    "\n",
    "rto = Pu/Pe\n",
    "\n",
    "print (\"Solución 3\")\n",
    "print (\"Mr = {:.2f} Nm\".format(Mr))\n",
    "print (\"s = {:.3f}\".format(s))\n",
    "print (\"Pmi = {:.1f} W\".format(Pmi))\n",
    "print (\"Pjr = {:.1f} W\".format(Pjr))\n",
    "print (\"Ie = {:.2f} A\".format(Ie))\n",
    "print (\"rto = {:.3f}\".format(rto))"
   ]
  },
  {
   "cell_type": "code",
   "execution_count": 16,
   "metadata": {},
   "outputs": [
    {
     "data": {
      "image/png": "[encoded data removed]",
      "text/plain": [
       "<Figure size 432x288 with 1 Axes>"
      ]
     },
     "metadata": {},
     "output_type": "display_data"
    }
   ],
   "source": [
    "# Para generar el diagrama de potencias de la máquina (diagrama de Sankey)\n",
    "import numpy as np\n",
    "import matplotlib.pyplot as plt\n",
    "from matplotlib.sankey import Sankey\n",
    "\n",
    "fig = plt.figure()\n",
    "ax = fig.add_subplot(1, 1, 1, xticks=[], yticks=[],\n",
    "                     title=\"Diagrama de perdidas del motor de induccion.\")\n",
    "sankey = Sankey(ax=ax,scale=0.0001,offset=0.2, format='%.0f', flows=[Pe, -Pje, -Pfe, -Pjr, -Pm, -Pu],\n",
    "       labels=['Pe', 'Pje', 'Pfe', 'Pjr', 'Pm', 'Pu'],\n",
    "       orientations=[0, -1, 1, -1, -1, 0], \n",
    "      pathlengths=[0.5,0.2,0.025,0.25,0.25,0.2])\n",
    "diagrama = sankey.finish()"
   ]
  },
  {
   "cell_type": "code",
   "execution_count": null,
   "metadata": {
    "collapsed": true
   },
   "outputs": [],
   "source": []
  }
 ],
 "metadata": {
  "anaconda-cloud": {},
  "kernelspec": {
   "display_name": "Python 3",
   "language": "python",
   "name": "python3"
  },
  "language_info": {
   "codemirror_mode": {
    "name": "ipython",
    "version": 3
   },
   "file_extension": ".py",
   "mimetype": "text/x-python",
   "name": "python",
   "nbconvert_exporter": "python",
   "pygments_lexer": "ipython3",
   "version": "3.6.3"
  },
  "latex_envs": {
   "LaTeX_envs_menu_present": true,
   "autoclose": false,
   "autocomplete": true,
   "bibliofile": "biblio.bib",
   "cite_by": "apalike",
   "current_citInitial": 1,
   "eqLabelWithNumbers": true,
   "eqNumInitial": 1,
   "hotkeys": {
    "equation": "Ctrl-E",
    "itemize": "Ctrl-I"
   },
   "labels_anchors": false,
   "latex_user_defs": false,
   "report_style_numbering": false,
   "user_envs_cfg": false
  },
  "toc": {
   "nav_menu": {},
   "number_sections": true,
   "sideBar": true,
   "skip_h1_title": false,
   "title_cell": "Table of Contents",
   "title_sidebar": "Contents",
   "toc_cell": false,
   "toc_position": {},
   "toc_section_display": true,
   "toc_window_display": false
  },
  "varInspector": {
   "cols": {
    "lenName": 16,
    "lenType": 16,
    "lenVar": 40
   },
   "kernels_config": {
    "python": {
     "delete_cmd_postfix": "",
     "delete_cmd_prefix": "del ",
     "library": "var_list.py",
     "varRefreshCmd": "print(var_dic_list())"
    },
    "r": {
     "delete_cmd_postfix": ") ",
     "delete_cmd_prefix": "rm(",
     "library": "var_list.r",
     "varRefreshCmd": "cat(var_dic_list()) "
    }
   },
   "types_to_exclude": [
    "module",
    "function",
    "builtin_function_or_method",
    "instance",
    "_Feature"
   ],
   "window_display": false
  }
 },
 "nbformat": 4,
 "nbformat_minor": 1
}
