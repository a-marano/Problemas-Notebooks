{
 "cells": [
  {
   "cell_type": "markdown",
   "metadata": {},
   "source": [
    "# Ejemplo 1-4\n",
    "\n",
    "Encuentre la permeabilidad relativa del material ferromagnético cuya curva de magnetización se muestra en la figura para los valores de H que se indican a continuación:\n",
    "H = (50, 100, 500, 1000) Av/m.\n",
    "\n",
    "<img src='./img/curvaHB.png'>\n"
   ]
  },
  {
   "cell_type": "markdown",
   "metadata": {
    "solution2": "hidden",
    "solution2_first": true
   },
   "source": [
    "<div class=\"alert alert-success\">\n",
    "Comportamiento magnético de los materiales:\n",
    "$$ \\mu=\\frac{B}{H} $$\n",
    " \n",
    "</div>\n",
    "\n"
   ]
  },
  {
   "cell_type": "code",
   "execution_count": 32,
   "metadata": {
    "solution2": "hidden"
   },
   "outputs": [
    {
     "name": "stdout",
     "output_type": "stream",
     "text": [
      "Los puntos obtenidos de la curva son [(50, 0.25), (100, 0.72), (500, 1.4), (1000, 1.51)]\n",
      "La permeabilidad absoluta en cada punto es: [0.005   0.0072  0.0028  0.00151]\n",
      "La permeabilidad relativa en cada punto es: [3978.8735773  5729.57795131 2228.16920329 1201.61982034]\n"
     ]
    }
   ],
   "source": [
    "import numpy as np\n",
    "\n",
    "# se obtienen los valores de B de la gráfica a partir de los valores de H:\n",
    "H = np.array([50, 100, 500, 1000])\n",
    "B = np.array([0.25, 0.72, 1.40, 1.51])\n",
    "print (\"Los puntos obtenidos de la curva son {}\".format(list(zip(H,B))))\n",
    "\n",
    "# La permeabilidad se calcula:\n",
    "\n",
    "def calc_perm(H,B):\n",
    "    mu = B/H\n",
    "    mu_r = mu/(4*np.pi*1e-7)\n",
    "    return mu, mu_r\n",
    "\n",
    "print (\"La permeabilidad absoluta en cada punto es: {}\".format(calc_perm(H,B)[0]))\n",
    "print (\"La permeabilidad relativa en cada punto es: {}\".format(calc_perm(H,B)[1]))"
   ]
  },
  {
   "cell_type": "markdown",
   "metadata": {
    "solution2": "hidden",
    "solution2_first": true
   },
   "source": [
    "# Ejemplo 1-5\n",
    "\n",
    "Un núcleo magnético cuadrado tiene una longitud media de 55 cm y un área de sección transversal de 150 cm2. Una bobina de 200 vueltas de alambre está enrollada en una de las columnas del núcleo, el cual está hecho de un material cuya curva de magnetización se muestra en la figura anterior.\n",
    "\n",
    "a) ¿Cuánta corriente se requiere para producir un flujo de 0.012 Wb en el núcleo?\n",
    "\n",
    "b) ¿Cuál es la permeabilidad relativa del núcleo para esa corriente?\n",
    "\n",
    "c) ¿Cuál es su reluctancia?\n",
    "\n",
    "\n",
    "<div class=\"alert alert-success\">\n",
    "    <b>Ley de Ampere</b>:\n",
    "\\begin{align}\n",
    "F = N\\cdot i = H\\cdot l\n",
    "\\end{align}\n",
    "</div>\n",
    "\n",
    "\n"
   ]
  },
  {
   "cell_type": "code",
   "execution_count": 30,
   "metadata": {
    "solution2": "hidden"
   },
   "outputs": [
    {
     "name": "stdout",
     "output_type": "stream",
     "text": [
      "a)\n",
      "La B requerida es 0.800 T\n",
      "La corriente necesaria es: 0.316 A\n",
      "b)\n",
      "La permeabilidad para una corriente i=0.316 A es 0.007 H/m\n",
      "La permeabilidad relativa es 5535.824\n",
      "c)\n",
      "La reluctancia del nucleo en estas condiciones es: 5270.833 Av/Wb\n"
     ]
    }
   ],
   "source": [
    "\n",
    "# Datos\n",
    "l = 55.0*1e-2 # m\n",
    "s = 150.0*1e-4 # m2\n",
    "N = 200 # vueltas\n",
    "flujo = 0.012 # Wb\n",
    "mu_0 = 4*np.pi*1e-7\n",
    "\n",
    "###### a)\n",
    "print (\"a)\")\n",
    "# Densidad (B)\n",
    "B = flujo/s\n",
    "print (\"La B requerida es {:1.3f} T\".format(B))\n",
    "# de la figura se obtiene la H necesaria para esa B: H = 115 Av/m\n",
    "H = 115\n",
    "# de la Ley de Ampere:\n",
    "i = H*l/N\n",
    "print (\"La corriente necesaria es: {:1.3f} A\".format(i))\n",
    "\n",
    "#### b)\n",
    "print (\"b)\")\n",
    "# la permeabilidad del nucleo para esa corriente es:\n",
    "mu = B/H\n",
    "print (\"La permeabilidad para una corriente i={:1.3f} A es {:.3f} H/m\".format(i,mu))\n",
    "# la permeabilidad relativa\n",
    "mur = mu/mu_0\n",
    "print (\"La permeabilidad relativa es {:1.3f}\".format(mur))\n",
    "#### c)\n",
    "print (\"c)\")\n",
    "# la reluctancia del nucleo:\n",
    "R = N*i/flujo\n",
    "print (\"La reluctancia del nucleo en estas condiciones es: {:1.3f} Av/Wb\".format(R))"
   ]
  },
  {
   "cell_type": "code",
   "execution_count": null,
   "metadata": {
    "collapsed": true
   },
   "outputs": [],
   "source": []
  }
 ],
 "metadata": {
  "kernel_info": {
   "name": "python2"
  },
  "kernelspec": {
   "display_name": "Python 3",
   "language": "python",
   "name": "python3"
  },
  "language_info": {
   "codemirror_mode": {
    "name": "ipython",
    "version": 3
   },
   "file_extension": ".py",
   "mimetype": "text/x-python",
   "name": "python",
   "nbconvert_exporter": "python",
   "pygments_lexer": "ipython3",
   "version": "3.6.3"
  },
  "latex_envs": {
   "LaTeX_envs_menu_present": true,
   "autoclose": false,
   "autocomplete": true,
   "bibliofile": "biblio.bib",
   "cite_by": "apalike",
   "current_citInitial": 1,
   "eqLabelWithNumbers": true,
   "eqNumInitial": 1,
   "hotkeys": {
    "equation": "Ctrl-E",
    "itemize": "Ctrl-I"
   },
   "labels_anchors": false,
   "latex_user_defs": false,
   "report_style_numbering": false,
   "user_envs_cfg": false
  },
  "nteract": {
   "version": "0.3.2"
  },
  "toc": {
   "nav_menu": {},
   "number_sections": true,
   "sideBar": true,
   "skip_h1_title": false,
   "title_cell": "Table of Contents",
   "title_sidebar": "Contents",
   "toc_cell": false,
   "toc_position": {},
   "toc_section_display": true,
   "toc_window_display": false
  },
  "varInspector": {
   "cols": {
    "lenName": 16,
    "lenType": 16,
    "lenVar": 40
   },
   "kernels_config": {
    "python": {
     "delete_cmd_postfix": "",
     "delete_cmd_prefix": "del ",
     "library": "var_list.py",
     "varRefreshCmd": "print(var_dic_list())"
    },
    "r": {
     "delete_cmd_postfix": ") ",
     "delete_cmd_prefix": "rm(",
     "library": "var_list.r",
     "varRefreshCmd": "cat(var_dic_list()) "
    }
   },
   "types_to_exclude": [
    "module",
    "function",
    "builtin_function_or_method",
    "instance",
    "_Feature"
   ],
   "window_display": true
  }
 },
 "nbformat": 4,
 "nbformat_minor": 1
}
