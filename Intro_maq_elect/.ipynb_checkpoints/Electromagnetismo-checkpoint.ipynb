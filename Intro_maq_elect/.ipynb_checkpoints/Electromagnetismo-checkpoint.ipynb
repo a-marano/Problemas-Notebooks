{
 "cells": [
  {
   "cell_type": "markdown",
   "metadata": {},
   "source": [
    "# Ejemplo 1-4\n",
    "\n",
    "Encuentre la permeabilidad relativa del material ferromagnético cuya curva de magnetización se muestra en la figura para los valores de H que se indican a continuación:\n",
    "H = (50, 100, 500, 1000) Av/m.\n",
    "\n",
    "<img src='./img/curvaHB.png'>\n",
    "\n",
    "\n",
    "### Comportamiento magnético de los materiales\n",
    "\n",
    "$$ \\mu=\\frac{B}{H} $$"
   ]
  },
  {
   "cell_type": "code",
   "execution_count": 36,
   "metadata": {
    "collapsed": false
   },
   "outputs": [
    {
     "name": "stdout",
     "output_type": "stream",
     "text": [
      "Los puntos obtenidos de la curva son [(50, 0.25), (100, 0.71999999999999997), (500, 1.3999999999999999), (1000, 1.51)]\n",
      "La permeabilidad absoluta es: [ 0.005    0.0072   0.0028   0.00151]\n"
     ]
    }
   ],
   "source": [
    "# se obtienen los valores de B de la gráfica a partir de los valores de H:\n",
    "H = np.array([50, 100, 500, 1000])\n",
    "B = np.array([0.25, 0.72, 1.40, 1.51])\n",
    "print \"Los puntos obtenidos de la curva son {}\".format(zip(H,B))\n",
    "\n",
    "# La permeabilidad se calcula:\n",
    "\n",
    "def calc_perm(H,B):\n",
    "    mu = B/H\n",
    "    mu_r = mu/(4*np.pi*1e-7)\n",
    "    return mu, mu_r\n",
    "\n",
    "print \"La permeabilidad absoluta es: {}\".format(calc_perm(H,B)[0])"
   ]
  },
  {
   "cell_type": "markdown",
   "metadata": {},
   "source": [
    "# Ejemplo 1-5\n",
    "\n",
    "Un núcleo magnético cuadrado tiene una longitud media de 55 cm y un área de sección transversal de 150 cm2. Una bobina de 200 vueltas de alambre está enrollada en una de las columnas del núcleo, el cual está hecho de un material cuya curva de magnetización se muestra en la figura anterior.\n",
    "\n",
    "a) ¿Cuánta corriente se requiere para producir un flujo de 0.012 Wb en el núcleo?\n",
    "\n",
    "b) ¿Cuál es la permeabilidad relativa del núcleo para esa corriente?\n",
    "\n",
    "c) ¿Cuál es su reluctancia?\n",
    "\n",
    "\n",
    "\n",
    "### Ley de Ampere:\n",
    "\\begin{align}\n",
    "F = N\\cdot i = H\\cdot l\n",
    "\\end{align}\n",
    "\n",
    "\n",
    "\n"
   ]
  },
  {
   "cell_type": "code",
   "execution_count": 31,
   "metadata": {
    "collapsed": false
   },
   "outputs": [
    {
     "name": "stdout",
     "output_type": "stream",
     "text": [
      "a)\n",
      "La B requerida es 0.8 T\n",
      "La corriente necesaria es: 0.31625 A\n",
      "b)\n",
      "La permeabilidad para una corriente i=0.31625 A es 0.00696 H/m\n",
      "La permeabilidad relativa es 5535.82410754\n",
      "c)\n",
      "La reluctancia del nucleo en estas condiciones es: 5270.83333333 Av/Wb\n"
     ]
    }
   ],
   "source": [
    "import numpy as np\n",
    "\n",
    "# Datos\n",
    "l = 55.0*1e-2 # m\n",
    "s = 150.0*1e-4 # m2\n",
    "N = 200 # vueltas\n",
    "flujo = 0.012 # Wb\n",
    "mu_0 = 4*np.pi*1e-7\n",
    "\n",
    "###### a)\n",
    "print \"a)\"\n",
    "# Densidad (B)\n",
    "B = flujo/s\n",
    "print \"La B requerida es {} T\".format(B)\n",
    "# de la figura se obtiene la H necesaria para esa B: H = 115 Av/m\n",
    "H = 115\n",
    "# de la Ley de Ampere:\n",
    "i = H*l/N\n",
    "print \"La corriente necesaria es: {} A\".format(i)\n",
    "\n",
    "#### b)\n",
    "print \"b)\"\n",
    "# la permeabilidad del nucleo para esa corriente es:\n",
    "mu = B/H\n",
    "print \"La permeabilidad para una corriente i={} A es {:.3} H/m\".format(i,mu)\n",
    "# la permeabilidad relativa\n",
    "mur = mu/mu_0\n",
    "print \"La permeabilidad relativa es {}\".format(mur)\n",
    "#### c)\n",
    "print \"c)\"\n",
    "# la reluctancia del nucleo:\n",
    "R = N*i/flujo\n",
    "print \"La reluctancia del nucleo en estas condiciones es: {} Av/Wb\".format(R)"
   ]
  },
  {
   "cell_type": "code",
   "execution_count": null,
   "metadata": {
    "collapsed": true
   },
   "outputs": [],
   "source": []
  }
 ],
 "metadata": {
  "kernelspec": {
   "display_name": "Python 2",
   "language": "python",
   "name": "python2"
  },
  "language_info": {
   "codemirror_mode": {
    "name": "ipython",
    "version": 2
   },
   "file_extension": ".py",
   "mimetype": "text/x-python",
   "name": "python",
   "nbconvert_exporter": "python",
   "pygments_lexer": "ipython2",
   "version": "2.7.10"
  }
 },
 "nbformat": 4,
 "nbformat_minor": 0
}
